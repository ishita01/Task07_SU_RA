{
  "nbformat": 4,
  "nbformat_minor": 0,
  "metadata": {
    "colab": {
      "provenance": [],
      "authorship_tag": "ABX9TyO4xAaIXc9R9bbWYp4lQvIB",
      "include_colab_link": true
    },
    "kernelspec": {
      "name": "python3",
      "display_name": "Python 3"
    },
    "language_info": {
      "name": "python"
    }
  },
  "cells": [
    {
      "cell_type": "markdown",
      "metadata": {
        "id": "view-in-github",
        "colab_type": "text"
      },
      "source": [
        "<a href=\"https://colab.research.google.com/github/Kunal-Ahirrao/Task_04_Descriptive_Stats/blob/main/polars_stats_twitter.ipynb\" target=\"_parent\"><img src=\"https://colab.research.google.com/assets/colab-badge.svg\" alt=\"Open In Colab\"/></a>"
      ]
    },
    {
      "cell_type": "code",
      "source": [
        "import polars as pl\n",
        "\n",
        "# Load dataset\n",
        "df = pl.read_csv(\"/content/2024_tw_posts_president_scored_anon.csv\")\n",
        "\n",
        "# Clean comma-formatted numbers\n",
        "for col in df.columns:\n",
        "    if df[col].dtype == pl.Utf8:\n",
        "        try:\n",
        "            df = df.with_columns(\n",
        "                pl.col(col).str.replace_all(\",\", \"\").cast(pl.Float64).alias(col)\n",
        "            )\n",
        "        except:\n",
        "            continue\n",
        "\n",
        "# Detect numeric columns\n",
        "numeric_cols = [col for col in df.columns if df[col].dtype in [pl.Float64, pl.Int64]]\n",
        "\n",
        "output_lines = []\n",
        "\n",
        "# Column types\n",
        "output_lines.append(\"=== Column Types ===\")\n",
        "for col in df.columns:\n",
        "    output_lines.append(f\"{col}: {df[col].dtype}\")\n",
        "output_lines.append(\"\\n\")\n",
        "\n",
        "# Basic stats\n",
        "output_lines.append(\"=== Basic Descriptive Stats ===\")\n",
        "summary = df.select(\n",
        "    [pl.col(col).mean().alias(f\"{col}_mean\") for col in numeric_cols] +\n",
        "    [pl.col(col).std().alias(f\"{col}_std\") for col in numeric_cols] +\n",
        "    [pl.col(col).min().alias(f\"{col}_min\") for col in numeric_cols] +\n",
        "    [pl.col(col).max().alias(f\"{col}_max\") for col in numeric_cols]\n",
        ")\n",
        "output_lines.append(summary.to_pandas().to_string())\n",
        "output_lines.append(\"\\n\")\n",
        "\n",
        "# Group by account_type\n",
        "if \"account_type\" in df.columns:\n",
        "    output_lines.append(\"=== Grouped by account_type (Mean Only, First 10) ===\")\n",
        "    group1 = df.group_by(\"account_type\").agg([\n",
        "        pl.col(col).mean().alias(f\"{col}_mean\") for col in numeric_cols\n",
        "    ])\n",
        "    output_lines.append(group1.head(10).to_pandas().to_string())\n",
        "    output_lines.append(\"\\n\")\n",
        "else:\n",
        "    output_lines.append(\"Column 'account_type' not found — skipping.\\n\")\n",
        "\n",
        "# Group by account_id and post_id\n",
        "if \"account_id\" in df.columns and \"post_id\" in df.columns:\n",
        "    output_lines.append(\"=== Grouped by account_id and post_id (Mean Only, First 10) ===\")\n",
        "    group2 = df.group_by([\"account_id\", \"post_id\"]).agg([\n",
        "        pl.col(col).mean().alias(f\"{col}_mean\") for col in numeric_cols\n",
        "    ])\n",
        "    output_lines.append(group2.head(10).to_pandas().to_string())\n",
        "    output_lines.append(\"\\n\")\n",
        "else:\n",
        "    output_lines.append(\"Missing 'account_id' or 'post_id' — skipping group.\\n\")\n",
        "\n",
        "# Save output\n",
        "with open(\"polars_output_twitter.txt\", \"w\", encoding=\"utf-8\") as f:\n",
        "    f.write(\"\\n\".join(output_lines))\n",
        "\n",
        "print(\"✅ polars_output_twitter.txt saved.\")\n"
      ],
      "metadata": {
        "colab": {
          "base_uri": "https://localhost:8080/"
        },
        "id": "PBXHsmi7Vu-K",
        "outputId": "8906876f-ecb5-47ef-cbdd-943dea44e895"
      },
      "execution_count": 23,
      "outputs": [
        {
          "output_type": "stream",
          "name": "stdout",
          "text": [
            "✅ polars_output_twitter.txt saved.\n"
          ]
        }
      ]
    }
  ]
}