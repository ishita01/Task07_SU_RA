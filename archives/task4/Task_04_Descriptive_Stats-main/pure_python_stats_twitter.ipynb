{
  "nbformat": 4,
  "nbformat_minor": 0,
  "metadata": {
    "colab": {
      "provenance": [],
      "authorship_tag": "ABX9TyPo7sBy1rNWHsUkKrIGGwEI",
      "include_colab_link": true
    },
    "kernelspec": {
      "name": "python3",
      "display_name": "Python 3"
    },
    "language_info": {
      "name": "python"
    }
  },
  "cells": [
    {
      "cell_type": "markdown",
      "metadata": {
        "id": "view-in-github",
        "colab_type": "text"
      },
      "source": [
        "<a href=\"https://colab.research.google.com/github/Kunal-Ahirrao/Task_04_Descriptive_Stats/blob/main/pure_python_stats_twitter.ipynb\" target=\"_parent\"><img src=\"https://colab.research.google.com/assets/colab-badge.svg\" alt=\"Open In Colab\"/></a>"
      ]
    },
    {
      "cell_type": "code",
      "source": [
        "import csv\n",
        "import statistics\n",
        "from collections import defaultdict, Counter\n",
        "\n",
        "def clean_number(value):\n",
        "    try:\n",
        "        return float(value.replace(\",\", \"\").strip())\n",
        "    except:\n",
        "        return None\n",
        "\n",
        "def read_csv(filepath):\n",
        "    with open(filepath, 'r', encoding='utf-8') as f:\n",
        "        return list(csv.DictReader(f))\n",
        "\n",
        "def compute_stats(data, group_by=None):\n",
        "    output = []\n",
        "    groups = defaultdict(list)\n",
        "\n",
        "    for row in data:\n",
        "        key = tuple(row[col] for col in group_by) if group_by else \"all\"\n",
        "        groups[key].append(row)\n",
        "\n",
        "    for group, rows in list(groups.items())[:10]:  # limit to first 10 groups\n",
        "        output.append(f\"\\n=== Group: {group} ===\")\n",
        "        keys = rows[0].keys()\n",
        "\n",
        "        for key in keys:\n",
        "            values = [row[key] for row in rows if row[key].strip() != \"\"]\n",
        "            float_vals = [clean_number(v) for v in values if clean_number(v) is not None]\n",
        "\n",
        "            if float_vals:\n",
        "                output.append(f\"{key} | count={len(float_vals)}, mean={round(statistics.mean(float_vals), 2)}, min={min(float_vals)}, max={max(float_vals)}\")\n",
        "                if len(float_vals) > 1:\n",
        "                    output.append(f\"{key} | std_dev={round(statistics.stdev(float_vals), 2)}\")\n",
        "            else:\n",
        "                freq = Counter(values)\n",
        "                if freq:\n",
        "                    output.append(f\"{key} | unique={len(freq)}, top={freq.most_common(1)}\")\n",
        "    return output\n",
        "\n",
        "# Load data\n",
        "data = read_csv(\"/content/2024_tw_posts_president_scored_anon.csv\")\n",
        "output = []\n",
        "\n",
        "# Overall\n",
        "output.append(\"=== Overall Stats ===\")\n",
        "output.extend(compute_stats(data))\n",
        "\n",
        "# Group by account_type\n",
        "columns = data[0].keys()\n",
        "if \"account_type\" in columns:\n",
        "    output.append(\"\\n=== Grouped by account_type ===\")\n",
        "    output.extend(compute_stats(data, group_by=[\"account_type\"]))\n",
        "else:\n",
        "    output.append(\"Column 'account_type' not found — skipping.\\n\")\n",
        "\n",
        "# Group by account_id and post_id\n",
        "if \"account_id\" in columns and \"post_id\" in columns:\n",
        "    output.append(\"\\n=== Grouped by account_id and post_id ===\")\n",
        "    output.extend(compute_stats(data, group_by=[\"account_id\", \"post_id\"]))\n",
        "else:\n",
        "    output.append(\"Missing 'account_id' or 'post_id' — skipping group.\\n\")\n",
        "\n",
        "# Save\n",
        "with open(\"pure_python_output_twitter.txt\", \"w\", encoding=\"utf-8\") as f:\n",
        "    f.write(\"\\n\".join(output))\n",
        "\n",
        "print(\"✅ pure_python_output_twitter.txt saved.\")\n"
      ],
      "metadata": {
        "colab": {
          "base_uri": "https://localhost:8080/"
        },
        "id": "PBXHsmi7Vu-K",
        "outputId": "2ee1ed5d-5826-47f7-b374-c0245ce8165d"
      },
      "execution_count": 24,
      "outputs": [
        {
          "output_type": "stream",
          "name": "stdout",
          "text": [
            "✅ pure_python_output_twitter.txt saved.\n"
          ]
        }
      ]
    }
  ]
}