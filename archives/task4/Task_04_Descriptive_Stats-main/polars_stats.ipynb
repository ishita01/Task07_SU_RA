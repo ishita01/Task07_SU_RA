{
  "nbformat": 4,
  "nbformat_minor": 0,
  "metadata": {
    "colab": {
      "provenance": [],
      "authorship_tag": "ABX9TyMb9RihFylCG0WEMJkIyxmm",
      "include_colab_link": true
    },
    "kernelspec": {
      "name": "python3",
      "display_name": "Python 3"
    },
    "language_info": {
      "name": "python"
    }
  },
  "cells": [
    {
      "cell_type": "markdown",
      "metadata": {
        "id": "view-in-github",
        "colab_type": "text"
      },
      "source": [
        "<a href=\"https://colab.research.google.com/github/Kunal-Ahirrao/Task_04_Descriptive_Stats/blob/main/polars_stats.ipynb\" target=\"_parent\"><img src=\"https://colab.research.google.com/assets/colab-badge.svg\" alt=\"Open In Colab\"/></a>"
      ]
    },
    {
      "cell_type": "code",
      "source": [
        "import polars as pl\n",
        "\n",
        "# Load dataset\n",
        "df = pl.read_csv(\"/content/2024_fb_ads_president_scored_anon.csv\")\n",
        "\n",
        "# Define numeric columns\n",
        "numeric_cols = [\"estimated_audience_size\", \"estimated_impressions\", \"estimated_spend\"]\n",
        "\n",
        "# Prepare output lines\n",
        "output_lines = []\n",
        "\n",
        "# === Basic descriptive stats ===\n",
        "output_lines.append(\"=== Basic Descriptive Statistics ===\")\n",
        "basic_stats = df.select([\n",
        "    pl.col(col).mean().alias(f\"{col}_mean\") for col in numeric_cols\n",
        "] + [\n",
        "    pl.col(col).std().alias(f\"{col}_std\") for col in numeric_cols\n",
        "] + [\n",
        "    pl.col(col).min().alias(f\"{col}_min\") for col in numeric_cols\n",
        "] + [\n",
        "    pl.col(col).max().alias(f\"{col}_max\") for col in numeric_cols\n",
        "])\n",
        "output_lines.append(basic_stats.to_pandas().to_string())\n",
        "output_lines.append(\"\\n\")\n",
        "\n",
        "# === Grouped by page_id ===\n",
        "output_lines.append(\"=== Grouped by page_id (Mean Only, First 10) ===\")\n",
        "group1 = df.group_by(\"page_id\").agg([\n",
        "    pl.col(col).mean().alias(f\"{col}_mean\") for col in numeric_cols\n",
        "])\n",
        "output_lines.append(group1.head(10).to_pandas().to_string())\n",
        "output_lines.append(\"\\n\")\n",
        "\n",
        "# === Grouped by page_id and ad_id ===\n",
        "output_lines.append(\"=== Grouped by page_id and ad_id (Mean Only, First 10) ===\")\n",
        "group2 = df.group_by([\"page_id\", \"ad_id\"]).agg([\n",
        "    pl.col(col).mean().alias(f\"{col}_mean\") for col in numeric_cols\n",
        "])\n",
        "output_lines.append(group2.head(10).to_pandas().to_string())\n",
        "output_lines.append(\"\\n\")\n",
        "\n",
        "# Save to output file\n",
        "with open(\"polars_output.txt\", \"w\", encoding=\"utf-8\") as f:\n",
        "    f.write(\"\\n\".join(output_lines))\n",
        "\n",
        "print(\"✅ Output saved to polars_output.txt\")\n"
      ],
      "metadata": {
        "colab": {
          "base_uri": "https://localhost:8080/"
        },
        "id": "PBXHsmi7Vu-K",
        "outputId": "f5711734-7959-4016-b3da-2721b6411646"
      },
      "execution_count": 15,
      "outputs": [
        {
          "output_type": "stream",
          "name": "stdout",
          "text": [
            "✅ Output saved to polars_output.txt\n"
          ]
        }
      ]
    }
  ]
}