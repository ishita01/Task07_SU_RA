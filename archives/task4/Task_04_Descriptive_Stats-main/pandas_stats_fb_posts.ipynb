{
  "nbformat": 4,
  "nbformat_minor": 0,
  "metadata": {
    "colab": {
      "provenance": [],
      "authorship_tag": "ABX9TyOIYJomMwFy0hfTQi6aS+bo",
      "include_colab_link": true
    },
    "kernelspec": {
      "name": "python3",
      "display_name": "Python 3"
    },
    "language_info": {
      "name": "python"
    }
  },
  "cells": [
    {
      "cell_type": "markdown",
      "metadata": {
        "id": "view-in-github",
        "colab_type": "text"
      },
      "source": [
        "<a href=\"https://colab.research.google.com/github/Kunal-Ahirrao/Task_04_Descriptive_Stats/blob/main/pandas_stats_fb_posts.ipynb\" target=\"_parent\"><img src=\"https://colab.research.google.com/assets/colab-badge.svg\" alt=\"Open In Colab\"/></a>"
      ]
    },
    {
      "cell_type": "code",
      "source": [
        "import pandas as pd\n",
        "\n",
        "# Load the dataset\n",
        "df = pd.read_csv(\"/content/2024_fb_posts_president_scored_anon.csv\")\n",
        "\n",
        "# Show actual column names to confirm structure (optional but useful for debugging)\n",
        "print(\"Dataset Columns:\")\n",
        "for idx, col in enumerate(df.columns):\n",
        "    print(f\"{idx}: '{col}'\")\n",
        "\n",
        "# Try cleaning numeric columns that contain commas\n",
        "# We'll attempt to clean all non-numeric columns that could have numeric content\n",
        "for col in df.columns:\n",
        "    if df[col].dtype == 'object':\n",
        "        try:\n",
        "            df[col] = df[col].str.replace(\",\", \"\")\n",
        "            df[col] = pd.to_numeric(df[col], errors='ignore')\n",
        "        except Exception:\n",
        "            continue  # Skip if not convertible\n",
        "\n",
        "# Auto-detect numeric columns for stats\n",
        "numeric_cols = df.select_dtypes(include='number').columns.tolist()\n",
        "\n",
        "# Prepare output\n",
        "output_lines = []\n",
        "\n",
        "# === Column Types ===\n",
        "output_lines.append(\"=== Column Types ===\")\n",
        "output_lines.extend([f\"{col}: {dtype}\" for col, dtype in df.dtypes.items()])\n",
        "output_lines.append(\"\\n\")\n",
        "\n",
        "# === Descriptive Stats ===\n",
        "output_lines.append(\"=== Basic Descriptive Stats ===\")\n",
        "desc_stats = df[numeric_cols].describe()\n",
        "output_lines.append(desc_stats.to_string())\n",
        "output_lines.append(\"\\n\")\n",
        "\n",
        "# === Grouped by account_type ===\n",
        "if \"account_type\" in df.columns:\n",
        "    output_lines.append(\"=== Grouped by account_type (Mean Only, Top 10) ===\")\n",
        "    group1 = df.groupby(\"account_type\")[numeric_cols].mean().head(10)\n",
        "    output_lines.append(group1.to_string())\n",
        "    output_lines.append(\"\\n\")\n",
        "else:\n",
        "    output_lines.append(\"Column 'account_type' not found — skipping group by account_type.\\n\")\n",
        "\n",
        "# === Grouped by account_id and post_id ===\n",
        "if \"account_id\" in df.columns and \"post_id\" in df.columns:\n",
        "    output_lines.append(\"=== Grouped by account_id and post_id (Mean Only, Top 10) ===\")\n",
        "    group2 = df.groupby([\"account_id\", \"post_id\"])[numeric_cols].mean().head(10)\n",
        "    output_lines.append(group2.to_string())\n",
        "    output_lines.append(\"\\n\")\n",
        "else:\n",
        "    output_lines.append(\"Columns 'account_id' or 'post_id' not found — skipping group by account_id and post_id.\\n\")\n",
        "\n",
        "# Save to file\n",
        "with open(\"pandas_output_posts.txt\", \"w\", encoding=\"utf-8\") as f:\n",
        "    f.write(\"\\n\".join(output_lines))\n",
        "\n",
        "print(\"✅ pandas_output_posts.txt has been saved.\")\n"
      ],
      "metadata": {
        "colab": {
          "base_uri": "https://localhost:8080/"
        },
        "id": "PBXHsmi7Vu-K",
        "outputId": "1c453b30-609d-4d86-c60b-18c3c4f3bd94"
      },
      "execution_count": 19,
      "outputs": [
        {
          "output_type": "stream",
          "name": "stdout",
          "text": [
            "Dataset Columns:\n",
            "0: 'Facebook_Id'\n",
            "1: 'post_id'\n",
            "2: 'Page Category'\n",
            "3: 'Page Admin Top Country'\n",
            "4: 'Post Created'\n",
            "5: 'Post Created Date'\n",
            "6: 'Post Created Time'\n",
            "7: 'Type'\n",
            "8: 'Total Interactions'\n",
            "9: 'Likes'\n",
            "10: 'Comments'\n",
            "11: 'Shares'\n",
            "12: 'Love'\n",
            "13: 'Wow'\n",
            "14: 'Haha'\n",
            "15: 'Sad'\n",
            "16: 'Angry'\n",
            "17: 'Care'\n",
            "18: 'Video Share Status'\n",
            "19: 'Is Video Owner?'\n",
            "20: 'Post Views'\n",
            "21: 'Total Views'\n",
            "22: 'Total Views For All Crossposts'\n",
            "23: 'Video Length'\n",
            "24: 'Sponsor Id'\n",
            "25: 'Sponsor Name'\n",
            "26: 'Sponsor Category'\n",
            "27: 'Overperforming Score'\n",
            "28: 'illuminating_scored_messageelection_integrity_Truth_illuminating'\n",
            "29: 'advocacy_msg_type_illuminating'\n",
            "30: 'issue_msg_type_illuminating'\n",
            "31: 'attack_msg_type_illuminating'\n",
            "32: 'image_msg_type_illuminating'\n",
            "33: 'cta_msg_type_illuminating'\n",
            "34: 'engagement_cta_subtype_illuminating'\n",
            "35: 'fundraising_cta_subtype_illuminating'\n",
            "36: 'voting_cta_subtype_illuminating'\n",
            "37: 'covid_topic_illuminating'\n",
            "38: 'economy_topic_illuminating'\n",
            "39: 'education_topic_illuminating'\n",
            "40: 'environment_topic_illuminating'\n",
            "41: 'foreign_policy_topic_illuminating'\n",
            "42: 'governance_topic_illuminating'\n",
            "43: 'health_topic_illuminating'\n",
            "44: 'immigration_topic_illuminating'\n",
            "45: 'lgbtq_issues_topic_illuminating'\n",
            "46: 'military_topic_illuminating'\n",
            "47: 'race_and_ethnicity_topic_illuminating'\n",
            "48: 'safety_topic_illuminating'\n",
            "49: 'social_and_cultural_topic_illuminating'\n",
            "50: 'technology_and_privacy_topic_illuminating'\n",
            "51: 'womens_issue_topic_illuminating'\n",
            "52: 'incivility_illuminating'\n",
            "53: 'scam_illuminating'\n",
            "54: 'freefair_illuminating'\n",
            "55: 'fraud_illuminating'\n",
            "✅ pandas_output_posts.txt has been saved.\n"
          ]
        },
        {
          "output_type": "stream",
          "name": "stderr",
          "text": [
            "/tmp/ipython-input-19-1879057343.py:17: FutureWarning: errors='ignore' is deprecated and will raise in a future version. Use to_numeric without passing `errors` and catch exceptions explicitly instead\n",
            "  df[col] = pd.to_numeric(df[col], errors='ignore')\n"
          ]
        }
      ]
    }
  ]
}