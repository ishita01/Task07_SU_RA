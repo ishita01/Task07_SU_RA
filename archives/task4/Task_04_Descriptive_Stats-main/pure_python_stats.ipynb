{
  "nbformat": 4,
  "nbformat_minor": 0,
  "metadata": {
    "colab": {
      "provenance": [],
      "authorship_tag": "ABX9TyNRGiD/t3bPlrin0JtFQTDb",
      "include_colab_link": true
    },
    "kernelspec": {
      "name": "python3",
      "display_name": "Python 3"
    },
    "language_info": {
      "name": "python"
    }
  },
  "cells": [
    {
      "cell_type": "markdown",
      "metadata": {
        "id": "view-in-github",
        "colab_type": "text"
      },
      "source": [
        "<a href=\"https://colab.research.google.com/github/Kunal-Ahirrao/Task_04_Descriptive_Stats/blob/main/pure_python_stats.ipynb\" target=\"_parent\"><img src=\"https://colab.research.google.com/assets/colab-badge.svg\" alt=\"Open In Colab\"/></a>"
      ]
    },
    {
      "cell_type": "code",
      "source": [
        "import csv\n",
        "import statistics\n",
        "from collections import defaultdict, Counter\n",
        "\n",
        "# Helper function to safely convert to float\n",
        "def to_float(val):\n",
        "    try:\n",
        "        return float(val)\n",
        "    except:\n",
        "        return None\n",
        "\n",
        "# Load CSV\n",
        "def read_csv(filepath):\n",
        "    with open(filepath, 'r', encoding='utf-8') as f:\n",
        "        return list(csv.DictReader(f))\n",
        "\n",
        "# Analyze stats\n",
        "def compute_stats(data, group_by=None):\n",
        "    output = []\n",
        "    groups = defaultdict(list)\n",
        "\n",
        "    for row in data:\n",
        "        key = tuple(row[col] for col in group_by) if group_by else \"all\"\n",
        "        groups[key].append(row)\n",
        "\n",
        "    for group, rows in list(groups.items())[:10]:  # Limit output\n",
        "        output.append(f\"\\n=== Group: {group} ===\")\n",
        "        keys = rows[0].keys()\n",
        "\n",
        "        for key in keys:\n",
        "            values = [row[key] for row in rows if row[key].strip() != \"\"]\n",
        "            float_vals = [to_float(v) for v in values if to_float(v) is not None]\n",
        "\n",
        "            if float_vals:\n",
        "                output.append(f\"{key} | count: {len(float_vals)}, mean: {round(statistics.mean(float_vals), 2)}, \"\n",
        "                              f\"min: {min(float_vals)}, max: {max(float_vals)}\")\n",
        "                if len(float_vals) > 1:\n",
        "                    output.append(f\"std_dev: {round(statistics.stdev(float_vals), 2)}\")\n",
        "            else:\n",
        "                freq = Counter(values)\n",
        "                if freq:\n",
        "                    output.append(f\"{key} | unique: {len(freq)}, top: {freq.most_common(1)}\")\n",
        "    return output\n",
        "\n",
        "# Main\n",
        "data = read_csv(\"/content/2024_fb_ads_president_scored_anon.csv\")\n",
        "output_lines = []\n",
        "\n",
        "# Overall stats\n",
        "output_lines.append(\"=== Overall Stats ===\")\n",
        "output_lines.extend(compute_stats(data))\n",
        "\n",
        "# Group by page_id\n",
        "output_lines.append(\"\\n=== Grouped by page_id ===\")\n",
        "output_lines.extend(compute_stats(data, group_by=[\"page_id\"]))\n",
        "\n",
        "# Group by page_id and ad_id\n",
        "output_lines.append(\"\\n=== Grouped by page_id and ad_id ===\")\n",
        "output_lines.extend(compute_stats(data, group_by=[\"page_id\", \"ad_id\"]))\n",
        "\n",
        "# Save to file\n",
        "with open(\"pure_python_output.txt\", \"w\", encoding=\"utf-8\") as f:\n",
        "    f.write(\"\\n\".join(output_lines))\n",
        "\n",
        "print(\"✅ Output saved to pure_python_output.txt\")\n"
      ],
      "metadata": {
        "colab": {
          "base_uri": "https://localhost:8080/"
        },
        "id": "EOo0TX1SUxHA",
        "outputId": "d71a23a6-08c2-47ed-b49f-ea1a0d7fefe5"
      },
      "execution_count": 12,
      "outputs": [
        {
          "output_type": "stream",
          "name": "stdout",
          "text": [
            "✅ Output saved to pure_python_output.txt\n"
          ]
        }
      ]
    }
  ]
}