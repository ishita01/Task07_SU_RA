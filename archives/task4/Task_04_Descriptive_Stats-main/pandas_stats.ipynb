{
  "nbformat": 4,
  "nbformat_minor": 0,
  "metadata": {
    "colab": {
      "provenance": [],
      "authorship_tag": "ABX9TyOapD3S7t/8WrQPkzhhVe4s",
      "include_colab_link": true
    },
    "kernelspec": {
      "name": "python3",
      "display_name": "Python 3"
    },
    "language_info": {
      "name": "python"
    }
  },
  "cells": [
    {
      "cell_type": "markdown",
      "metadata": {
        "id": "view-in-github",
        "colab_type": "text"
      },
      "source": [
        "<a href=\"https://colab.research.google.com/github/Kunal-Ahirrao/Task_04_Descriptive_Stats/blob/main/pandas_stats.ipynb\" target=\"_parent\"><img src=\"https://colab.research.google.com/assets/colab-badge.svg\" alt=\"Open In Colab\"/></a>"
      ]
    },
    {
      "cell_type": "code",
      "source": [
        "import pandas as pd\n",
        "\n",
        "# Load dataset\n",
        "df = pd.read_csv(\"/content/2024_fb_ads_president_scored_anon.csv\")\n",
        "\n",
        "# Prepare output list\n",
        "output_lines = []\n",
        "\n",
        "# Column info\n",
        "output_lines.append(\"=== Columns and Data Types ===\\n\")\n",
        "output_lines.extend([f\"{col}: {dtype}\" for col, dtype in df.dtypes.items()])\n",
        "output_lines.append(\"\\n\")\n",
        "\n",
        "# Descriptive statistics for numeric fields\n",
        "numeric_cols = ['estimated_audience_size', 'estimated_impressions', 'estimated_spend']\n",
        "desc_stats = df[numeric_cols].describe()\n",
        "output_lines.append(\"=== Basic Descriptive Stats ===\\n\")\n",
        "output_lines.append(desc_stats.to_string())\n",
        "output_lines.append(\"\\n\")\n",
        "\n",
        "# Categorical field summaries\n",
        "categorical_cols = ['currency', 'publisher_platforms']\n",
        "for col in categorical_cols:\n",
        "    output_lines.append(f\"=== {col} Summary ===\\n\")\n",
        "    output_lines.append(f\"Unique values: {df[col].nunique()}\")\n",
        "    output_lines.append(df[col].value_counts(dropna=False).head(5).to_string())\n",
        "    output_lines.append(\"\\n\")\n",
        "\n",
        "# Group by page_id (faster with simple agg)\n",
        "output_lines.append(\"=== Grouped by page_id (Mean Only, First 10) ===\\n\")\n",
        "group1 = df.groupby(\"page_id\")[numeric_cols].mean().head(10)\n",
        "output_lines.append(group1.to_string())\n",
        "output_lines.append(\"\\n\")\n",
        "\n",
        "# Group by page_id and ad_id (Mean Only, First 10)\n",
        "output_lines.append(\"=== Grouped by page_id and ad_id (Mean Only, First 10) ===\\n\")\n",
        "group2 = df.groupby([\"page_id\", \"ad_id\"])[numeric_cols].mean().head(10)\n",
        "output_lines.append(group2.to_string())\n",
        "output_lines.append(\"\\n\")\n",
        "\n",
        "# Save to file\n",
        "with open(\"pandas_output.txt\", \"w\", encoding=\"utf-8\") as f:\n",
        "    f.write(\"\\n\".join(output_lines))\n",
        "\n",
        "print(\"✅ Output saved to pandas_output.txt (optimized version)\")\n"
      ],
      "metadata": {
        "colab": {
          "base_uri": "https://localhost:8080/"
        },
        "id": "_N-JWCN5RfIT",
        "outputId": "cf39b7de-2cf7-464d-c756-f2301b3a4b93"
      },
      "execution_count": 9,
      "outputs": [
        {
          "output_type": "stream",
          "name": "stdout",
          "text": [
            "✅ Output saved to pandas_output.txt (optimized version)\n"
          ]
        }
      ]
    }
  ]
}