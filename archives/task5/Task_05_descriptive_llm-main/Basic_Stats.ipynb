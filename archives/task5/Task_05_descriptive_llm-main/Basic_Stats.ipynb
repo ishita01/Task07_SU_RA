{
  "nbformat": 4,
  "nbformat_minor": 0,
  "metadata": {
    "colab": {
      "provenance": [],
      "authorship_tag": "ABX9TyNzEeR5lAXOAjKm2k80YUFC",
      "include_colab_link": true
    },
    "kernelspec": {
      "name": "python3",
      "display_name": "Python 3"
    },
    "language_info": {
      "name": "python"
    }
  },
  "cells": [
    {
      "cell_type": "markdown",
      "metadata": {
        "id": "view-in-github",
        "colab_type": "text"
      },
      "source": [
        "<a href=\"https://colab.research.google.com/github/Kunal-Ahirrao/Task_05_descriptive_llm/blob/main/Basic_Stats.ipynb\" target=\"_parent\"><img src=\"https://colab.research.google.com/assets/colab-badge.svg\" alt=\"Open In Colab\"/></a>"
      ]
    },
    {
      "cell_type": "code",
      "execution_count": 5,
      "metadata": {
        "colab": {
          "base_uri": "https://localhost:8080/"
        },
        "id": "5NPam1_jmlUk",
        "outputId": "f8728450-59fc-4620-cfc1-bbd123a43a6e"
      },
      "outputs": [
        {
          "output_type": "stream",
          "name": "stdout",
          "text": [
            "✅ Summary stats saved successfully.\n",
            "✅ Text summary file saved as lacrosse_top_games.txt.\n"
          ]
        }
      ],
      "source": [
        "import pandas as pd\n",
        "import numpy as np\n",
        "import os\n",
        "import json\n",
        "\n",
        "# Load datasets (assumes you've uploaded files)\n",
        "game_df = pd.read_csv('/content/game_results.csv')\n",
        "team_df = pd.read_csv('/content/team_stats.csv')\n",
        "\n",
        "# Preprocessing\n",
        "game_df['Goals_For'] = game_df['Score'].str.split('-').str[0].astype(int)\n",
        "game_df['Goals_Against'] = game_df['Score'].str.split('-').str[1].astype(int)\n",
        "game_df['Goal_Diff'] = game_df['Goals_For'] - game_df['Goals_Against']\n",
        "\n",
        "# Basic statistics\n",
        "total_games = len(game_df)\n",
        "wins = (game_df['W/L'] == 'W').sum()\n",
        "losses = (game_df['W/L'] == 'L').sum()\n",
        "avg_goals_scored = game_df['Goals_For'].mean()\n",
        "avg_goals_conceded = game_df['Goals_Against'].mean()\n",
        "total_goals_scored = game_df['Goals_For'].sum()\n",
        "total_goals_conceded = game_df['Goals_Against'].sum()\n",
        "most_attended_game = game_df.loc[game_df['Attendance'].idxmax()].to_dict()\n",
        "\n",
        "# Win/Loss extremes\n",
        "closest_win = game_df[game_df['W/L'] == 'W'].iloc[game_df[game_df['W/L'] == 'W']['Goal_Diff'].abs().argsort()[:1]].to_dict('records')[0]\n",
        "closest_loss = game_df[game_df['W/L'] == 'L'].iloc[game_df[game_df['W/L'] == 'L']['Goal_Diff'].abs().argsort()[:1]].to_dict('records')[0]\n",
        "biggest_win = game_df[game_df['W/L'] == 'W'].iloc[game_df[game_df['W/L'] == 'W']['Goal_Diff'].argsort()[::-1][:1]].to_dict('records')[0]\n",
        "biggest_loss = game_df[game_df['W/L'] == 'L'].iloc[game_df[game_df['W/L'] == 'L']['Goal_Diff'].argsort()[:1]].to_dict('records')[0]\n",
        "\n",
        "# Team stats breakdown\n",
        "team_totals = team_df.set_index('Metric').T.to_dict('records')[0]\n",
        "\n",
        "# Summary object\n",
        "summary_stats = {\n",
        "    \"Total Games\": total_games,\n",
        "    \"Wins\": wins,\n",
        "    \"Losses\": losses,\n",
        "    \"Average Goals Scored\": round(avg_goals_scored, 2),\n",
        "    \"Average Goals Conceded\": round(avg_goals_conceded, 2),\n",
        "    \"Total Goals Scored\": total_goals_scored,\n",
        "    \"Total Goals Conceded\": total_goals_conceded,\n",
        "    \"Most Attended Game\": most_attended_game,\n",
        "    \"Closest Win\": closest_win,\n",
        "    \"Closest Loss\": closest_loss,\n",
        "    \"Biggest Win\": biggest_win,\n",
        "    \"Biggest Loss\": biggest_loss,\n",
        "    \"Team Totals\": team_totals\n",
        "}\n",
        "\n",
        "# JSON fix for NumPy types\n",
        "def convert_np(obj):\n",
        "    if isinstance(obj, (np.integer, np.floating)):\n",
        "        return obj.item()\n",
        "    elif isinstance(obj, dict):\n",
        "        return {k: convert_np(v) for k, v in obj.items()}\n",
        "    elif isinstance(obj, list):\n",
        "        return [convert_np(i) for i in obj]\n",
        "    return obj\n",
        "\n",
        "# Save results\n",
        "output_dir = 'lacrosse_output'\n",
        "os.makedirs(output_dir, exist_ok=True)\n",
        "\n",
        "with open(os.path.join(output_dir, 'lacrosse_summary_stats.json'), 'w') as f:\n",
        "    json.dump(convert_np(summary_stats), f, indent=4)\n",
        "\n",
        "print(\"✅ Summary stats saved successfully.\")\n",
        "\n",
        "# Save detailed summaries to text file\n",
        "with open(os.path.join(output_dir, 'lacrosse_top_games.txt'), 'w') as f:\n",
        "    f.write(\"Top 5 Highest Scoring Games:\\n\")\n",
        "    top_scoring_games = game_df.sort_values(by='Goals_For', ascending=False).head(5)\n",
        "    f.write(top_scoring_games[['Date', 'Opponent', 'Score', 'Goals_For']].to_string(index=False))\n",
        "\n",
        "    f.write(\"\\n\\nTop 5 Most Attended Games:\\n\")\n",
        "    top_attendance_games = game_df.sort_values(by='Attendance', ascending=False).head(5)\n",
        "    f.write(top_attendance_games[['Date', 'Opponent', 'Attendance']].to_string(index=False))\n",
        "\n",
        "    f.write(\"\\n\\nTop 5 Closest Wins:\\n\")\n",
        "    closest_wins = game_df[game_df['W/L'] == 'W'].sort_values(by='Goal_Diff').head(5)\n",
        "    f.write(closest_wins[['Date', 'Opponent', 'Score', 'Goal_Diff']].to_string(index=False))\n",
        "\n",
        "    f.write(\"\\n\\nTop 5 Closest Losses:\\n\")\n",
        "    closest_losses = game_df[game_df['W/L'] == 'L'].iloc[game_df[game_df['W/L'] == 'L']['Goal_Diff'].abs().argsort()].head(5)\n",
        "    f.write(closest_losses[['Date', 'Opponent', 'Score', 'Goal_Diff']].to_string(index=False))\n",
        "\n",
        "    f.write(\"\\n\\nTop 5 Biggest Wins:\\n\")\n",
        "    biggest_wins = game_df[game_df['W/L'] == 'W'].sort_values(by='Goal_Diff', ascending=False).head(5)\n",
        "    f.write(biggest_wins[['Date', 'Opponent', 'Score', 'Goal_Diff']].to_string(index=False))\n",
        "\n",
        "print(\"✅ Text summary file saved as lacrosse_top_games.txt.\")\n",
        "\n"
      ]
    }
  ]
}